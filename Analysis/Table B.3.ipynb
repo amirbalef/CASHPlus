{
 "cells": [
  {
   "cell_type": "code",
   "execution_count": null,
   "id": "c474f4c7",
   "metadata": {},
   "outputs": [],
   "source": [
    "dataset_name = \"TabRepoRaw_30\"\n",
    "dataset_name = \"YaHPOGym_100\"\n",
    "dataset_name = \"Complex\"\n",
    "#dataset_name = \"more\"\n",
    "import pandas as pd\n",
    "\n",
    "dataset = pd.read_csv(\"../Datasets/\" + dataset_name + \".csv\")\n",
    "\n",
    "instances = sorted(dataset[\"instance\"].unique())\n",
    "print(instances)"
   ]
  },
  {
   "cell_type": "code",
   "execution_count": null,
   "id": "f94eec17",
   "metadata": {},
   "outputs": [],
   "source": [
    "import openml\n",
    "import pandas as pd\n",
    "\n",
    "# List of OpenML task IDs\n",
    "task_ids = instances  # replace with your own task IDs\n",
    "\n",
    "records = []\n",
    "\n",
    "for i, task_id in enumerate(task_ids):\n",
    "    try:\n",
    "        task = openml.tasks.get_task(task_id)\n",
    "        dataset = task.get_dataset()\n",
    "        X, _, _, _ = dataset.get_data()\n",
    "\n",
    "        num_samples = X.shape[0]\n",
    "        num_features = X.shape[1]\n",
    "\n",
    "        num_categorical = sum(\n",
    "            str(feat.data_type) == \"nominal\" for feat in dataset.features.values()\n",
    "        )\n",
    "\n",
    "        n_classes = task.class_labels\n",
    "\n",
    "        records.append(\n",
    "            {\n",
    "                \"index\": str(i+1),\n",
    "                \"task id\": task_id,\n",
    "                \"dataset name\": (dataset.name).replace(\"_\", \"-\"),\n",
    "                \"number of samples\": num_samples,\n",
    "                \"number of features\": num_features,\n",
    "                \"number of categorical features\": num_categorical,\n",
    "                \"number of calsses\": len(n_classes),\n",
    "            }\n",
    "        )\n",
    "    except Exception as e:\n",
    "        print(f\"Error with task {task_id}: {e}\")\n",
    "        break\n",
    "\n",
    "# Create DataFrame\n",
    "df = pd.DataFrame(records)\n",
    "print(df)"
   ]
  },
  {
   "cell_type": "code",
   "execution_count": null,
   "id": "a0934e9b",
   "metadata": {},
   "outputs": [],
   "source": [
    "latex_table = df.to_latex(index=False, escape=False)\n",
    "print(latex_table)"
   ]
  }
 ],
 "metadata": {
  "kernelspec": {
   "display_name": "HC",
   "language": "python",
   "name": "python3"
  },
  "language_info": {
   "codemirror_mode": {
    "name": "ipython",
    "version": 3
   },
   "file_extension": ".py",
   "mimetype": "text/x-python",
   "name": "python",
   "nbconvert_exporter": "python",
   "pygments_lexer": "ipython3",
   "version": "3.11.9"
  }
 },
 "nbformat": 4,
 "nbformat_minor": 5
}
