{
 "cells": [
  {
   "cell_type": "code",
   "execution_count": null,
   "metadata": {},
   "outputs": [],
   "source": [
    "import os\n",
    "import numpy as np\n",
    "import pandas as pd\n",
    "import pandas as pd\n",
    "from scipy.stats import skewnorm\n",
    "\n",
    "\n",
    "def mix_skew_normal_dist(skewness, loc, scale, seq_len):\n",
    "    quantile1 = skewnorm.cdf(0.01, a=skewness, loc=loc, scale=scale)\n",
    "    quantile2 = skewnorm.cdf(0.99, a=skewness, loc=loc, scale=scale)\n",
    "    samples = skewnorm.ppf(\n",
    "        np.random.uniform(quantile1, quantile2, size=seq_len),\n",
    "        a=skewness,\n",
    "        loc=loc,\n",
    "        scale=scale,\n",
    "    )\n",
    "    samples[samples > 0.99] = 0.99\n",
    "    samples[samples < 0.01] = 0.01\n",
    "    return samples"
   ]
  },
  {
   "cell_type": "code",
   "execution_count": null,
   "metadata": {},
   "outputs": [],
   "source": [
    "%load_ext autoreload\n",
    "%autoreload 2\n",
    "import numpy as np\n",
    "\n",
    "time_horizon = 200\n",
    "n_trails = 32\n",
    "quantile = 0.99\n",
    "\n",
    "list_mu_sigma = [\n",
    "    (0.8, 0.05),\n",
    "    (0.75, 0.05),\n",
    "    (0.7, 0.05),\n",
    "    (0.6, 0.05),\n",
    "    (0.7, 0.1),\n",
    "    (0.6, 0.1),\n",
    "    (0.5, 0.1),\n",
    "]\n",
    "\n",
    "dataset = {}\n",
    "for skew in range(-100, 100 + 1, 5):\n",
    "    data = []\n",
    "    for mu, sigma in list_mu_sigma:\n",
    "        a_s = []\n",
    "        for n in range(n_trails):\n",
    "            np.random.seed(n)\n",
    "            a = mix_skew_normal_dist(skew, mu, sigma, time_horizon)\n",
    "            a_s.append(np.hstack(a))\n",
    "        data.append(a_s)\n",
    "        print(skew, mu, sigma, np.quantile(a_s, quantile), np.max(a_s))\n",
    "    data = np.asarray(data)\n",
    "    dataset[str(skew)] = data\n",
    "\n",
    "print(dataset.keys())"
   ]
  },
  {
   "cell_type": "code",
   "execution_count": null,
   "metadata": {},
   "outputs": [],
   "source": [
    "import matplotlib.pyplot as plt\n",
    "\n",
    "for i, arm in enumerate(dataset[list(dataset.keys())[-1]]):\n",
    "    plt.ecdf(arm.flatten(), label=\"Arm \" + str(i))\n",
    "\n",
    "plt.legend()"
   ]
  },
  {
   "cell_type": "code",
   "execution_count": null,
   "metadata": {},
   "outputs": [],
   "source": [
    "number_of_arms = len(list_mu_sigma)\n",
    "instances = dataset.keys()\n",
    "dataset_name = \"synth_ablation\""
   ]
  },
  {
   "cell_type": "code",
   "execution_count": null,
   "metadata": {},
   "outputs": [],
   "source": [
    "optimizers = [\"RandomSearch\"]\n",
    "results_list = []\n",
    "for instance in instances:\n",
    "    arm_index_method_list = [\n",
    "        (\n",
    "            int(arm_index),\n",
    "            optimizers[0],\n",
    "            optimizers[0] + \"_Arm_\" + str(arm_index),\n",
    "        )\n",
    "        for arm_index in range(number_of_arms)\n",
    "    ]\n",
    "\n",
    "    for arm_index, optimizer, optimizer_method in arm_index_method_list:\n",
    "        for trial in range(n_trails):\n",
    "            losses = 1 - dataset[instance][arm_index, trial]\n",
    "            classifiers = [str(arm_index)] * time_horizon\n",
    "            for iteration, (loss, classifier) in enumerate(zip(losses, classifiers)):\n",
    "                dict1 = {\n",
    "                    \"instance\": instance,\n",
    "                    \"repetition\": trial,\n",
    "                    \"arm_index\": arm_index,\n",
    "                    \"iteration\": iteration,\n",
    "                    \"loss\": loss,\n",
    "                    \"optimizer\": optimizer,\n",
    "                    \"classifier\": classifier,\n",
    "                }\n",
    "                results_list.append(dict1)\n",
    "\n",
    "df = pd.DataFrame(results_list)\n",
    "\n",
    "df.to_csv(\"./dataset/\" + dataset_name + \".csv\", index=False)"
   ]
  }
 ],
 "metadata": {
  "kernelspec": {
   "display_name": "FMBand",
   "language": "python",
   "name": "python3"
  },
  "language_info": {
   "codemirror_mode": {
    "name": "ipython",
    "version": 3
   },
   "file_extension": ".py",
   "mimetype": "text/x-python",
   "name": "python",
   "nbconvert_exporter": "python",
   "pygments_lexer": "ipython3",
   "version": "3.11.8"
  }
 },
 "nbformat": 4,
 "nbformat_minor": 2
}
