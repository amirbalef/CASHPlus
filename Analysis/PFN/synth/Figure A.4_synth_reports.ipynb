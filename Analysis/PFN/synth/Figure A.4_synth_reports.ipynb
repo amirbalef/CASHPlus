{
 "cells": [
  {
   "cell_type": "code",
   "execution_count": null,
   "metadata": {},
   "outputs": [],
   "source": [
    "%load_ext autoreload\n",
    "%autoreload 2\n",
    "\n",
    "import sys\n",
    "\n",
    "sys.path.insert(0, \"../../../BudgetAwareBandits\")\n",
    "sys.path.append(\"../../../Policies/\")\n",
    "sys.path.append(\"../../../BudgetAwareBandits/plotting_scripts/\")\n",
    "\n",
    "import plotting_utils\n",
    "from reports_utils import get_all_results, plt_heatmap, plot_pulls"
   ]
  },
  {
   "cell_type": "code",
   "execution_count": null,
   "metadata": {},
   "outputs": [],
   "source": [
    "policy_algorithms = {}\n",
    "policy_algorithms[\"MaxUCB\"] = 1\n",
    "policy_algorithms[\"Rising_Bandit\"] = 1\n",
    "# policy_algorithms[\"PFN_TS\"] = 1\n",
    "policy_algorithms[\"PFN_PS_Mix\"] = 1\n",
    "policy_algorithms[\"PFN_PS_Pos\"] = 1\n",
    "policy_algorithms[\"PFN_PS_Neg\"] = 1\n",
    "policy_algorithms[\"PFN_PS_BanditHPO\"] = 1\n",
    "policy_algorithms[\"PFN_UCB_plus\"] = 1\n",
    "\n",
    "# policy_algorithms[\"Oracle_Arm\"] = 1"
   ]
  },
  {
   "cell_type": "code",
   "execution_count": null,
   "metadata": {},
   "outputs": [],
   "source": [
    "dataset_name = \"synth_ablation\"  # \"\" synth_ablation_distilled\n",
    "data = get_all_results(\n",
    "    dataset_name,\n",
    "    policy_algorithms,\n",
    "    base_path=\"./dataset/\",\n",
    "    result_directory=\"./results/\",\n",
    ")\n",
    "\n",
    "\n",
    "data[\"plot_type\"] = \"Ranking\"\n",
    "data[\"saving_name\"] = \"ranking\"\n",
    "data[\"ylabel\"] = \"Ranking\"\n",
    "fig1 = plotting_utils.plot_averaged_on_datasets(data)\n",
    "\n",
    "data[\"plot_type\"] = \"Normalized loss\"\n",
    "data[\"saving_name\"] = \"norm_loss\"\n",
    "data[\"ylabel\"] = \"Normalized loss\"\n",
    "fig2 = plotting_utils.plot_averaged_on_datasets(data)"
   ]
  },
  {
   "cell_type": "code",
   "execution_count": null,
   "metadata": {},
   "outputs": [],
   "source": [
    "fig3 = plt_heatmap(data)"
   ]
  },
  {
   "cell_type": "code",
   "execution_count": null,
   "metadata": {},
   "outputs": [],
   "source": [
    "fig3 = plt_heatmap(data, normalized= True)"
   ]
  },
  {
   "cell_type": "code",
   "execution_count": null,
   "metadata": {},
   "outputs": [],
   "source": [
    "plot_pulls(data, dataset_name, policy_algorithms,result_directory=\"./results/\")"
   ]
  }
 ],
 "metadata": {
  "kernelspec": {
   "display_name": "FMBand",
   "language": "python",
   "name": "python3"
  },
  "language_info": {
   "codemirror_mode": {
    "name": "ipython",
    "version": 3
   },
   "file_extension": ".py",
   "mimetype": "text/x-python",
   "name": "python",
   "nbconvert_exporter": "python",
   "pygments_lexer": "ipython3",
   "version": "3.11.8"
  }
 },
 "nbformat": 4,
 "nbformat_minor": 2
}
