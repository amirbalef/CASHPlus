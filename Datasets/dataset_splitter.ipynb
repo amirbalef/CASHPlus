{
 "cells": [
  {
   "cell_type": "code",
   "execution_count": 3,
   "id": "a3bd4e5b",
   "metadata": {},
   "outputs": [],
   "source": [
    "import pandas as pd\n",
    "\n",
    "dataset_name = \"TabRepoRaw\"\n",
    "\n",
    "dataset = pd.read_csv(\"./\" + dataset_name + \".csv\")\n",
    "\n",
    "TabRepo30_instances = (\n",
    "    \"Australian\",\n",
    "    \"MIP-2016-regression\",\n",
    "    \"Moneyball\",\n",
    "    \"arcene\",\n",
    "    \"arsenic-female-bladder\",\n",
    "    \"autoUniv-au7-700\",\n",
    "    \"balance-scale\",\n",
    "    \"blood-transfusion-service-center\",\n",
    "    \"boston\",\n",
    "    \"boston_corrected\",\n",
    "    \"climate-model-simulation-crashes\",\n",
    "    \"cylinder-bands\",\n",
    "    \"diabetes\",\n",
    "    \"dresses-sales\",\n",
    "    \"fri_c0_500_5\",\n",
    "    \"fri_c2_500_50\",\n",
    "    \"fri_c3_500_10\",\n",
    "    \"fri_c3_500_50\",\n",
    "    \"fri_c4_500_100\",\n",
    "    \"house_prices_nominal\",\n",
    "    \"ilpd\",\n",
    "    \"kc2\",\n",
    "    \"meta\",\n",
    "    \"no2\",\n",
    "    \"pm10\",\n",
    "    \"rmftsa_ladata\",\n",
    "    \"sensory\",\n",
    "    \"socmob\",\n",
    "    \"tecator\",\n",
    "    \"us_crime\",\n",
    ")\n",
    "\n",
    "\n",
    "dataset_30 = dataset[dataset[\"instance\"].isin(TabRepo30_instances)]\n",
    "dataset_30.to_csv(\"./\" + dataset_name + \"_30.csv\", index=False)\n",
    "\n",
    "dataset_rest = dataset[~dataset[\"instance\"].isin(TabRepo30_instances)]\n",
    "dataset_rest.to_csv(\"./\" + dataset_name + \"_4.csv\", index=False)"
   ]
  },
  {
   "cell_type": "code",
   "execution_count": 4,
   "id": "0a4c6152",
   "metadata": {},
   "outputs": [
    {
     "name": "stdout",
     "output_type": "stream",
     "text": [
      "[3, 6, 11, 12, 14, 15, 16, 18, 22, 23, 24, 28, 29, 31, 32, 37, 38, 42, 44, 46, 50, 54, 60, 151, 181, 182, 188, 300, 307, 312, 334, 375, 377, 458, 469, 470, 1040, 1049, 1050, 1053, 1056, 1063, 1067, 1068, 1111, 1220, 1457, 1461, 1462, 1464, 1468, 1475, 1476, 1478, 1479, 1480, 1485, 1486, 1487, 1489, 1493, 1494, 1497, 1501, 1510, 1515, 1590, 4134, 4154, 4534, 4538, 6332, 23381, 40496, 40498, 40499, 40536, 40668, 40670, 40685, 40701, 40900, 40966, 40975, 40978, 40979, 40981, 40982, 40983, 40984, 40994, 41027, 41138, 41142, 41143, 41146, 41156, 41157, 41162, 41163, 41164, 41169, 41212]\n"
     ]
    }
   ],
   "source": [
    "import pandas as pd\n",
    "\n",
    "dataset_name = \"YaHPOGym\"\n",
    "\n",
    "dataset = pd.read_csv(\"./\" + dataset_name + \".csv\")\n",
    "\n",
    "instances = sorted(dataset[\"instance\"].unique())\n",
    "print(instances)\n"
   ]
  },
  {
   "cell_type": "code",
   "execution_count": 5,
   "id": "dc20b329",
   "metadata": {},
   "outputs": [],
   "source": [
    "instances_100 = instances[:100]\n",
    "\n",
    "\n",
    "dataset_100 = dataset[dataset[\"instance\"].isin(instances_100)]\n",
    "dataset_100.to_csv(\"./\" + dataset_name + \"_100.csv\", index=False)\n",
    "\n",
    "dataset_rest = dataset[~dataset[\"instance\"].isin(instances_100)]\n",
    "dataset_rest.to_csv(\"./\" + dataset_name + \"_4.csv\", index=False)"
   ]
  }
 ],
 "metadata": {
  "kernelspec": {
   "display_name": "FMBand",
   "language": "python",
   "name": "python3"
  },
  "language_info": {
   "codemirror_mode": {
    "name": "ipython",
    "version": 3
   },
   "file_extension": ".py",
   "mimetype": "text/x-python",
   "name": "python",
   "nbconvert_exporter": "python",
   "pygments_lexer": "ipython3",
   "version": "3.11.8"
  }
 },
 "nbformat": 4,
 "nbformat_minor": 5
}
