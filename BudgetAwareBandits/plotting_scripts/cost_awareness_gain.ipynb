{
 "cells": [
  {
   "cell_type": "code",
   "execution_count": 1,
   "metadata": {},
   "outputs": [],
   "source": [
    "%load_ext autoreload\n",
    "%autoreload 2\n",
    "\n",
    "import plotting_utils\n",
    "from reports_utils import (\n",
    "    get_all_results,\n",
    "    plt_heatmap,\n",
    "    plot_pulls,\n",
    "    number_of_pulls,\n",
    ")\n",
    "import numpy as np"
   ]
  },
  {
   "cell_type": "code",
   "execution_count": 2,
   "metadata": {},
   "outputs": [],
   "source": [
    "from collections import defaultdict\n",
    "\n",
    "\n",
    "def get_group(policy_algorithms):\n",
    "    grouped = defaultdict(lambda: {\"base\": [], \"ca\": []})\n",
    "    for elem in list(policy_algorithms.keys()):\n",
    "        if \"_CA\" in elem:\n",
    "            base = elem.split(\"_CA\")[0]  # Take everything before _CA\n",
    "            grouped[base][\"ca\"].append(elem)\n",
    "        else:\n",
    "            base = elem\n",
    "            grouped[base][\"base\"].append(elem)\n",
    "    return grouped\n",
    "    \n",
    "\n",
    "\n",
    "def get_total_pulls(pulls, algorithm):\n",
    "    total_pull = []\n",
    "    for item in pulls[algorithm]:\n",
    "        total_pull.append([len(i) for i in item])\n",
    "\n",
    "    total_pull = np.array(total_pull)\n",
    "    return np.mean(total_pull)"
   ]
  },
  {
   "cell_type": "code",
   "execution_count": 3,
   "metadata": {},
   "outputs": [],
   "source": [
    "policy_algorithms = {}\n",
    "policy_algorithms[\"PS_PFNs_CA_R\"] = 1\n",
    "policy_algorithms[\"PS_PFNs\"] = 1\n",
    "policy_algorithms[\"PS_PFN_CA_R\"] = 1\n",
    "policy_algorithms[\"PS_PFN\"] = 1\n",
    "policy_algorithms[\"PS_Max_CA_R\"] = 1\n",
    "policy_algorithms[\"PS_Max\"] = 1\n",
    "grouped = get_group(policy_algorithms)"
   ]
  },
  {
   "cell_type": "code",
   "execution_count": 4,
   "metadata": {},
   "outputs": [],
   "source": [
    "dataset_names = [\n",
    "    \"YaHPOGym_100\",\n",
    "    \"TabRepoRaw_30\",\n",
    "    \"Complex\",\n",
    "]\n",
    "results = {}\n",
    "for dataset_name in dataset_names:\n",
    "    number_of_trails = 32\n",
    "    if dataset_name == \"Complex\":\n",
    "        number_of_trails = 12\n",
    "    if dataset_name == \"Grinsztajn\":\n",
    "        number_of_trails = 12\n",
    "    if dataset_name == \"more\":\n",
    "        number_of_trails = 1\n",
    "\n",
    "    data = get_all_results(\n",
    "        dataset_name,\n",
    "        policy_algorithms,\n",
    "        result_directory=\"../results_\" + str(number_of_trails) + \"/\",\n",
    "    )\n",
    "\n",
    "    pulls = number_of_pulls(\n",
    "        data,\n",
    "        dataset_name,\n",
    "        policy_algorithms,\n",
    "        result_directory=\"../results_\" + str(number_of_trails) + \"/\",\n",
    "    )\n",
    "    results[dataset_name] = {}\n",
    "\n",
    "    for item in grouped:\n",
    "        results[dataset_name][item] = {\n",
    "            \"base\": get_total_pulls(pulls, grouped[item][\"base\"][0]),\n",
    "            \"ca\": get_total_pulls(pulls, grouped[item][\"ca\"][0]),\n",
    "        }"
   ]
  },
  {
   "cell_type": "code",
   "execution_count": 5,
   "metadata": {},
   "outputs": [
    {
     "name": "stdout",
     "output_type": "stream",
     "text": [
      "\\begin{table}\n",
      "\\centering\n",
      "\\caption{Percentage improvement of 'ca' over 'base' for each metric and dataset.}\n",
      "\\label{tab:percentage_improvement}\n",
      "\\begin{tabular}{lrrr}\n",
      "\\toprule\n",
      "{} &  PS\\_PFNs &  PS\\_PFN &  PS\\_Max \\\\\n",
      "\\midrule\n",
      "YaHPOGym\\_100  &    7.50\\% &   4.66\\% &   2.94\\% \\\\\n",
      "TabRepoRaw\\_30 &   15.36\\% &   6.74\\% &   7.55\\% \\\\\n",
      "Complex       &   15.32\\% &  17.35\\% &   4.69\\% \\\\\n",
      "\\bottomrule\n",
      "\\end{tabular}\n",
      "\\end{table}\n",
      "\n"
     ]
    },
    {
     "name": "stderr",
     "output_type": "stream",
     "text": [
      "/tmp/ipykernel_18721/2543326215.py:17: FutureWarning: In future versions `DataFrame.to_latex` is expected to utilise the base implementation of `Styler.to_latex` for formatting and rendering. The arguments signature may therefore change. It is recommended instead to use `DataFrame.style.to_latex` which also contains additional functionality.\n",
      "  latex_table = df.to_latex(\n"
     ]
    }
   ],
   "source": [
    "import pandas as pd\n",
    "\n",
    "table_result = {}\n",
    "for dataset, metrics in results.items():\n",
    "    table_result[dataset] = {}\n",
    "    for metric in grouped:\n",
    "        base = metrics[metric][\"base\"]\n",
    "        ca = metrics[metric][\"ca\"]\n",
    "        improvement = ((ca - base) / base) * 100\n",
    "        table_result[dataset][metric] = improvement\n",
    "\n",
    "# Create DataFrame\n",
    "df = pd.DataFrame(table_result).T  # Transpose to have datasets as rows\n",
    "df = df[[\"PS_PFNs\", \"PS_PFN\", \"PS_Max\"]]  # Optional: ensure consistent column order\n",
    "df = df.round(2)  # Round to 2 decimal places\n",
    "\n",
    "latex_table = df.to_latex(\n",
    "    index=True,\n",
    "    header=True,\n",
    "    float_format=lambda x: f\"{x/100.0:.2%}\",\n",
    "    caption=\"Percentage improvement of 'ca' over 'base' for each metric and dataset.\",\n",
    "    label=\"tab:percentage_improvement\",\n",
    ")\n",
    "\n",
    "print(latex_table)"
   ]
  }
 ],
 "metadata": {
  "kernelspec": {
   "display_name": "bo",
   "language": "python",
   "name": "python3"
  },
  "language_info": {
   "codemirror_mode": {
    "name": "ipython",
    "version": 3
   },
   "file_extension": ".py",
   "mimetype": "text/x-python",
   "name": "python",
   "nbconvert_exporter": "python",
   "pygments_lexer": "ipython3",
   "version": "3.10.13"
  }
 },
 "nbformat": 4,
 "nbformat_minor": 2
}
