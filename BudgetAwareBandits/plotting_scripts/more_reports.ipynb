{
 "cells": [
  {
   "cell_type": "code",
   "execution_count": null,
   "metadata": {},
   "outputs": [],
   "source": [
    "%load_ext autoreload\n",
    "%autoreload 2\n",
    "\n",
    "import plotting_utils\n",
    "from reports_utils import (\n",
    "    get_all_results,\n",
    "    plt_heatmap,\n",
    "    plot_pulls,\n",
    "    number_of_pulls,\n",
    ")"
   ]
  },
  {
   "cell_type": "code",
   "execution_count": null,
   "metadata": {},
   "outputs": [],
   "source": [
    "policy_algorithms = {}\n",
    "\n",
    "# policy_algorithms[\"PS_PFNs_CA\"] = 1\n",
    "# policy_algorithms[\"PS_PFNs_CA_R\"] = 1\n",
    "# policy_algorithms[\"PS_PFNs\"] = 1\n",
    "# policy_algorithms[\"PS_PFNs_R\"] = 1\n",
    "# policy_algorithms[\"PS_PFN_CA\"] = 1\n",
    "policy_algorithms[\"PS_PFN_CA_R\"] = 1\n",
    "policy_algorithms[\"PS_PFN\"] = 1\n",
    "# policy_algorithms[\"PS_PFN_R\"] = 1\n",
    "# policy_algorithms[\"PS_Max_CA\"] = 1\n",
    "policy_algorithms[\"PS_Max_CA_R\"] = 1\n",
    "policy_algorithms[\"PS_Max\"] = 1\n",
    "# policy_algorithms[\"PS_Max_R\"] = 1\n",
    "policy_algorithms[\"MaxUCB\"] = 1\n",
    "policy_algorithms[\"Rising_Bandit_CA\"] = 1\n",
    "policy_algorithms[\"Rising_Bandit\"] = 1\n",
    "policy_algorithms[\"TS\"] = 1\n",
    "# policy_algorithms[\"Random\"] = 1\n",
    "# policy_algorithms[\"UCB\"] = 1\n",
    "# policy_algorithms[\"Oracle_Arm\"] = 1"
   ]
  },
  {
   "cell_type": "code",
   "execution_count": null,
   "metadata": {},
   "outputs": [],
   "source": [
    "dataset_name = \"YaHPOGym_100\"\n",
    "dataset_name = \"TabRepoRaw_30\"\n",
    "#dataset_name = \"Complex\"\n",
    "\n",
    "number_of_trails = 32\n",
    "if dataset_name == \"Complex\":\n",
    "    number_of_trails = 12\n",
    "\n",
    "data = get_all_results(\n",
    "    dataset_name,\n",
    "    policy_algorithms,\n",
    "    result_directory=\"../results_\" + str(number_of_trails) + \"/\",\n",
    ")\n",
    "\n",
    "data[\"legend\"] = \"seperate\"\n",
    "print(len(data[\"instances\"]))\n",
    "data[\"plot_type\"] = \"Ranking\"\n",
    "data[\"saving_name\"] = \"ranking\"\n",
    "data[\"ylabel\"] = \"Ranking\"\n",
    "fig1 = plotting_utils.plot_averaged_on_datasets(data)\n",
    "fig1.savefig(\n",
    "    f\"../results/figures/{dataset_name}_ranking.pdf\",\n",
    "    bbox_inches=\"tight\",\n",
    "    pad_inches=0.1,\n",
    ")\n",
    "\n",
    "data[\"plot_type\"] = \"Normalized loss\"\n",
    "data[\"saving_name\"] = \"norm_regret\"\n",
    "data[\"ylabel\"] = \"Normalized regret\"\n",
    "fig2 = plotting_utils.plot_averaged_on_datasets(data)\n",
    "\n",
    "fig2.savefig(\n",
    "    f\"../results/figures/{dataset_name}_regret.pdf\",\n",
    "    bbox_inches=\"tight\",\n",
    "    pad_inches=0.1,\n",
    ")"
   ]
  },
  {
   "cell_type": "code",
   "execution_count": null,
   "metadata": {},
   "outputs": [],
   "source": [
    "fig3 = plt_heatmap(data, normalized =False)"
   ]
  },
  {
   "cell_type": "code",
   "execution_count": null,
   "metadata": {},
   "outputs": [],
   "source": [
    "fig4 = plot_pulls(\n",
    "    data,\n",
    "    dataset_name,\n",
    "    policy_algorithms,\n",
    "    result_directory=\"../results_\" + str(number_of_trails) + \"/\",\n",
    "    sort=False,\n",
    ")"
   ]
  },
  {
   "cell_type": "code",
   "execution_count": null,
   "metadata": {},
   "outputs": [],
   "source": [
    "fig4 = plot_pulls(\n",
    "    data,\n",
    "    dataset_name,\n",
    "    policy_algorithms,\n",
    "    result_directory=\"../results_\" + str(number_of_trails) + \"/\",\n",
    "    sort=False,\n",
    ")"
   ]
  },
  {
   "cell_type": "code",
   "execution_count": null,
   "metadata": {},
   "outputs": [],
   "source": [
    "import copy\n",
    "import matplotlib.pyplot as plt\n",
    "\n",
    "import os\n",
    "\n",
    "for instance_num in range(0, len(data[\"instances\"])):\n",
    "    data_instance = copy.deepcopy(data)\n",
    "    for item_name, item_algorithm in data_instance[\"all_result\"].items():\n",
    "        data_instance[\"all_result\"][item_name] = [item_algorithm[instance_num]]\n",
    "    data_instance[\"instances\"] = [data[\"instances\"][instance_num]]\n",
    "    data_instance[\"dataset\"] = data[\"dataset\"][\n",
    "        data[\"dataset\"][\"instance\"] == data[\"instances\"][instance_num]\n",
    "    ]\n",
    "\n",
    "    print(data_instance[\"instances\"])\n",
    "    data_instance[\"legend\"] = \"seperate\"\n",
    "    # print(data[\"instances\"])\n",
    "    data_instance[\"plot_type\"] = \"Ranking\"\n",
    "    data_instance[\"saving_name\"] = \"ranking\"\n",
    "    data_instance[\"ylabel\"] = \"Ranking\"\n",
    "    fig1 = plotting_utils.plot_averaged_on_datasets(data_instance)\n",
    "    path = \"../results/figures/extras/\" + dataset_name + \"/\"\n",
    "    if not os.path.exists(path):\n",
    "        os.makedirs(path)\n",
    "    fig1.savefig(\n",
    "        path\n",
    "        + \"ranking_\"\n",
    "        + str(instance_num)\n",
    "        + \"_\"\n",
    "        + str(data_instance[\"instances\"][0])\n",
    "        + \".pdf\",\n",
    "        bbox_inches=\"tight\",\n",
    "        pad_inches=0.1,\n",
    "    )\n",
    "    plt.close(fig1)"
   ]
  }
 ],
 "metadata": {
  "kernelspec": {
   "display_name": "FMBand",
   "language": "python",
   "name": "python3"
  },
  "language_info": {
   "codemirror_mode": {
    "name": "ipython",
    "version": 3
   },
   "file_extension": ".py",
   "mimetype": "text/x-python",
   "name": "python",
   "nbconvert_exporter": "python",
   "pygments_lexer": "ipython3",
   "version": "3.11.8"
  }
 },
 "nbformat": 4,
 "nbformat_minor": 2
}
